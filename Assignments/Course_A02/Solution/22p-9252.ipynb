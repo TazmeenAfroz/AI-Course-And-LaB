{
  "cells": [
    {
      "cell_type": "markdown",
      "metadata": {},
      "source": [
        "### Name : Tazmeen Afroz\n",
        "### Roll-N0: 22p-9252\n",
        "### Section: BAI-4A \n",
        "# ASSIGNMENT # 01"
      ]
    },
    {
      "cell_type": "code",
      "execution_count": 8,
      "metadata": {
        "colab": {
          "base_uri": "https://localhost:8080/"
        },
        "id": "sHcxAfZc5IqY",
        "outputId": "d36803bc-036d-4169-a7ef-fddb3027e1d1"
      },
      "outputs": [
        {
          "name": "stdout",
          "output_type": "stream",
          "text": [
            "Drive already mounted at /content/drive; to attempt to forcibly remount, call drive.mount(\"/content/drive\", force_remount=True).\n"
          ]
        }
      ],
      "source": [
        "from google.colab import drive\n",
        "drive.mount('/content/drive')"
      ]
    },
    {
      "cell_type": "code",
      "execution_count": 12,
      "metadata": {
        "colab": {
          "base_uri": "https://localhost:8080/"
        },
        "id": "hblZVp-m4uOY",
        "outputId": "e055640d-7893-48dd-aa4f-ab58196bc531"
      },
      "outputs": [
        {
          "name": "stdout",
          "output_type": "stream",
          "text": [
            "Text File 1 : This is a sentence. So is this!\n",
            "\n",
            "Number of sentences: 2\n",
            "Number of words: 7\n",
            "Number of characters: 23\n",
            "Readability index: 0\n",
            "\n",
            "\n",
            "Text File 2 : It continued raining for many days. One day, a monkey wet in the\n",
            "rain came into the forest. He sat on a branch, shivering with cold, water dripping\n",
            "from its body.\n",
            "\n",
            "Number of sentences: 3\n",
            "Number of words: 31\n",
            "Number of characters: 126\n",
            "Readability index: 3\n",
            "\n",
            "\n",
            "Text File 3 : There was once a poor servant-girl, who was industrious and cleanly,\n",
            "and swept the house every day, and emptied her sweepings on the great heap in front of\n",
            "the door. One morning when she was just going back to her work, she found a letter on\n",
            "this heap, and as she could not read, she put her broom in the corner, and took the\n",
            "letter to her master and mistress, and behold it was an invitation from the elves,\n",
            "who asked the girl to hold a child for them at its christening. The girl did not know\n",
            "what to do, but at length, after much persuasion, and as they told her that it was not\n",
            "right to refuse an invitation of this kind, she consented.\n",
            "\n",
            "Number of sentences: 3\n",
            "Number of words: 126\n",
            "Number of characters: 499\n",
            "Readability index: 19\n",
            "\n",
            "\n",
            "Text File 4 : It was an extraordinarily windy day, and thus the riders were faced with several arduous\n",
            "climbs up the mountain, with the wind trying to push them back down the road.\n",
            "\n",
            "Number of sentences: 1\n",
            "Number of words: 30\n",
            "Number of characters: 134\n",
            "Readability index: 15\n",
            "\n",
            "\n",
            "Text File 5 : It was a very windy day. The riders had many hard climbs up mountains. The wind kept\n",
            "pushing them back down the road.\n",
            "\n",
            "Number of sentences: 3\n",
            "Number of words: 23\n",
            "Number of characters: 92\n",
            "Readability index: 2\n",
            "\n",
            "\n",
            "Text File 6 : shopkeeper’s shoes 4 his_child2ren.\n",
            "\n",
            "Number of sentences: 1\n",
            "Number of words: 6\n",
            "Number of characters: 29\n",
            "Readability index: 5\n",
            "\n",
            "\n"
          ]
        }
      ],
      "source": [
        "import math\n",
        "import os\n",
        "\n",
        "\n",
        "# sentence_terminators is a list of characters that are considered to mark the end of a sentence.\n",
        "# Each occurrence of a period (.), colon (:), semicolon (;), question mark (?), and exclamation mark (!) is counted as a sentence terminator.\n",
        "\n",
        "sentence_terminators = ['.', ':', ';', '?', '!']\n",
        "\n",
        "# words_terminator is a list of characters that are considered to mark the end of a word.\n",
        "#. A word is sequence of one or more alpha-numeric characters delimited by whitespace or by a <sentence terminators> remaining  terminators were given in the example  \n",
        "#Each occurrence of a space, tab, newline, apostrophe (’), underscore (_), hyphen (-), and comma (,) is counted as a word terminator.\n",
        "words_terminator = sentence_terminators + [' ', '\\t', '\\n', '’', '_', '-', ',']\n",
        "\n",
        "# Function to count the number of sentences in the text\n",
        "def count_sentences(text):\n",
        "    sentence_count = 0\n",
        "    # If a terminator found in the text is in sentence_terminators list then it will count as a sentences\n",
        "    for terminator in text:\n",
        "        if terminator in sentence_terminators:\n",
        "            sentence_count += 1\n",
        "    # If a text has no sentence characters assume it has 1 sentence.\n",
        "    return max(sentence_count, 1)\n",
        "\n",
        "# Function to count the number of words in the text\n",
        "def count_words(text):\n",
        "    '''\n",
        "    If a terminator is found in the text then it will be replaced by space\n",
        "    and then split the text into words and count them.\n",
        "    '''\n",
        "    for terminator in words_terminator:\n",
        "        text = text.replace(terminator, ' ')\n",
        "    words = text.split()\n",
        "    return len(words)\n",
        "\n",
        "\n",
        "# Function to count the number of characters in the text\n",
        "def count_characters(text):\n",
        "    # A character is any alpha-numeric character.\n",
        "    character_count = 0\n",
        "    for char in text:\n",
        "        '''\n",
        "        If a character is alpha-numeric then it will be counted as a character ,\n",
        "        alpha-numerics are the combination of alphabets and numbers\n",
        "        '''\n",
        "        if char.isalpha() or char.isdigit():\n",
        "            character_count += 1\n",
        "    return character_count\n",
        "\n",
        "\n",
        "# Function to calculate Automated Readability Index (ARI) for the given text\n",
        "def calculate_ari(text):\n",
        "    sentences = count_sentences(text)\n",
        "    words = count_words(text)\n",
        "    characters = count_characters(text)\n",
        "    # math.ceil rounded up the non-integer score to the nearest whole number.\n",
        "    ari = math.ceil(4.71 * (characters / words) +0.5 * (words / sentences) - 21.43)\n",
        "\n",
        "# if ari is less than 0 then it will return 0\n",
        "    return max(ari,   0)\n",
        "\n",
        "\n",
        "# Function to print the result\n",
        "def print_result(filename, text, sentences, words, characters, ari):\n",
        "    filename = os.path.splitext(os.path.basename(filename))[0]\n",
        "    print(f'Text File {filename} : {text}')\n",
        "    print(f'Number of sentences: {sentences}')\n",
        "    print(f'Number of words: {words}')\n",
        "    print(f'Number of characters: {characters}')\n",
        "    print(f'Readability index: {ari}')\n",
        "    print('\\n')\n",
        "\n",
        "\n",
        "def return_filepath():\n",
        "    # Set the base directory where the text files are located\n",
        "    base_dir = '/content/drive/MyDrive/AI/'\n",
        "    # Get a list of all .txt files in the directory\n",
        "    text_files = [os.path.join(base_dir, f) for f in os.listdir(base_dir) if f.endswith('.txt')]\n",
        "    return text_files\n",
        "\n",
        "\n",
        "\n",
        "def main():\n",
        "    # Get the list of all text files\n",
        "    text_files = return_filepath()\n",
        "    # Iterate through each text file\n",
        "    for text_file in text_files:\n",
        "        # Open the text file and read the content\n",
        "        with open(text_file, 'r') as file:\n",
        "            text = file.read()\n",
        "            # Count the number of sentences, words, characters and calculate the ARI\n",
        "            sentences = count_sentences(text)\n",
        "            words = count_words(text)\n",
        "            characters = count_characters(text)\n",
        "            ari = calculate_ari(text)\n",
        "            # Print the result\n",
        "            print_result(text_file, text, sentences, words, characters, ari)\n",
        "\n",
        "\n",
        "\n",
        "main()"
      ]
    },
    {
      "cell_type": "code",
      "execution_count": 9,
      "metadata": {
        "id": "C-JBAYiKC6_F"
      },
      "outputs": [],
      "source": []
    }
  ],
  "metadata": {
    "colab": {
      "provenance": []
    },
    "kernelspec": {
      "display_name": "Python 3",
      "language": "python",
      "name": "python3"
    },
    "language_info": {
      "codemirror_mode": {
        "name": "ipython",
        "version": 3
      },
      "file_extension": ".py",
      "mimetype": "text/x-python",
      "name": "python",
      "nbconvert_exporter": "python",
      "pygments_lexer": "ipython3",
      "version": "3.10.12"
    }
  },
  "nbformat": 4,
  "nbformat_minor": 0
}
