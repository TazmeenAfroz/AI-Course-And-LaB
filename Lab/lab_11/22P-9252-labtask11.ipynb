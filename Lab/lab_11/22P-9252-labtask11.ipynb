{
 "cells": [
  {
   "cell_type": "code",
   "execution_count": 1,
   "metadata": {},
   "outputs": [
    {
     "name": "stdout",
     "output_type": "stream",
     "text": [
      "      CRIM    ZN  INDUS  CHAS    NOX     RM   AGE     DIS  RAD  TAX  PTRATIO  \\\n",
      "0  0.00632  18.0   2.31   0.0  0.538  6.575  65.2  4.0900    1  296     15.3   \n",
      "1  0.02731   0.0   7.07   0.0  0.469  6.421  78.9  4.9671    2  242     17.8   \n",
      "2  0.02729   0.0   7.07   0.0  0.469  7.185  61.1  4.9671    2  242     17.8   \n",
      "3  0.03237   0.0   2.18   0.0  0.458  6.998  45.8  6.0622    3  222     18.7   \n",
      "4  0.06905   0.0   2.18   0.0  0.458  7.147  54.2  6.0622    3  222     18.7   \n",
      "\n",
      "        B  LSTAT  MEDV  \n",
      "0  396.90   4.98  24.0  \n",
      "1  396.90   9.14  21.6  \n",
      "2  392.83   4.03  34.7  \n",
      "3  394.63   2.94  33.4  \n",
      "4  396.90    NaN  36.2  \n"
     ]
    }
   ],
   "source": [
    "import pandas as pd \n",
    "\n",
    "housingData = pd.read_csv('HousingData.csv')\n",
    "print(housingData.head())"
   ]
  },
  {
   "cell_type": "code",
   "execution_count": 2,
   "metadata": {},
   "outputs": [
    {
     "name": "stdout",
     "output_type": "stream",
     "text": [
      "CRIM       20\n",
      "ZN         20\n",
      "INDUS      20\n",
      "CHAS       20\n",
      "NOX         0\n",
      "RM          0\n",
      "AGE        20\n",
      "DIS         0\n",
      "RAD         0\n",
      "TAX         0\n",
      "PTRATIO     0\n",
      "B           0\n",
      "LSTAT      20\n",
      "MEDV        0\n",
      "dtype: int64\n"
     ]
    }
   ],
   "source": [
    "'''Prior to analysis, preprocess the dataset. Handle missing values, outliers,\n",
    "and consider necessary transformations to ensure data quality and suitability for analysis.'''\n",
    "\n",
    "# Check for missing values\n",
    "print(housingData.isnull().sum()) "
   ]
  },
  {
   "cell_type": "code",
   "execution_count": 3,
   "metadata": {},
   "outputs": [],
   "source": [
    "\n",
    "# missing values of all columns replaced with mean of the column\n",
    "from sklearn.impute import SimpleImputer\n",
    "housing = housingData.copy()\n",
    "\n",
    "imputer = SimpleImputer(strategy='mean')\n",
    "housing = imputer.fit_transform(housing)\n",
    "housing = pd.DataFrame(housing, columns=housingData.columns)\n",
    "\n",
    "\n"
   ]
  },
  {
   "cell_type": "code",
   "execution_count": 4,
   "metadata": {},
   "outputs": [
    {
     "name": "stdout",
     "output_type": "stream",
     "text": [
      "(506, 13)\n"
     ]
    }
   ],
   "source": [
    "# remove outliers\n",
    "\n",
    "housing.drop('CHAS', axis=1, inplace=True)\n",
    "# size of the dataset before removing outliers\n",
    "print(housing.shape)"
   ]
  },
  {
   "cell_type": "code",
   "execution_count": 5,
   "metadata": {},
   "outputs": [
    {
     "name": "stdout",
     "output_type": "stream",
     "text": [
      "CRIM         0.083235\n",
      "ZN           0.000000\n",
      "INDUS        5.190000\n",
      "NOX          0.449000\n",
      "RM           5.885500\n",
      "AGE         45.925000\n",
      "DIS          2.100175\n",
      "RAD          4.000000\n",
      "TAX        279.000000\n",
      "PTRATIO     17.400000\n",
      "B          375.377500\n",
      "LSTAT        7.230000\n",
      "MEDV        17.025000\n",
      "Name: 0.25, dtype: float64\n",
      "(13,)\n",
      "<class 'pandas.core.series.Series'>\n",
      "CRIM         3.528639\n",
      "ZN          11.211934\n",
      "INDUS       12.910000\n",
      "NOX          0.175000\n",
      "RM           0.738000\n",
      "AGE         47.650000\n",
      "DIS          3.088250\n",
      "RAD         20.000000\n",
      "TAX        387.000000\n",
      "PTRATIO      2.800000\n",
      "B           20.847500\n",
      "LSTAT        9.340000\n",
      "MEDV         7.975000\n",
      "dtype: float64\n"
     ]
    }
   ],
   "source": [
    "\n",
    "# Check for outliers iqr \n",
    "Q1 = housing.quantile(0.25)\n",
    "Q3 = housing.quantile(0.75)\n",
    "print(Q1)\n",
    "print(Q1.shape)\n",
    "\n",
    "print(type(Q1))\n",
    "IQR = Q3 - Q1\n",
    "print(IQR)\n",
    "\n",
    "\n"
   ]
  },
  {
   "cell_type": "code",
   "execution_count": 6,
   "metadata": {},
   "outputs": [
    {
     "name": "stdout",
     "output_type": "stream",
     "text": [
      "CRIM        -5.209723\n",
      "ZN         -16.817901\n",
      "INDUS      -14.175000\n",
      "NOX          0.186500\n",
      "RM           4.778500\n",
      "AGE        -25.550000\n",
      "DIS         -2.532200\n",
      "RAD        -26.000000\n",
      "TAX       -301.500000\n",
      "PTRATIO     13.200000\n",
      "B          344.106250\n",
      "LSTAT       -6.780000\n",
      "MEDV         5.062500\n",
      "dtype: float64\n",
      "CRIM          8.904832\n",
      "ZN           28.029835\n",
      "INDUS        37.465000\n",
      "NOX           0.886500\n",
      "RM            7.730500\n",
      "AGE         165.050000\n",
      "DIS           9.820800\n",
      "RAD          54.000000\n",
      "TAX        1246.500000\n",
      "PTRATIO      24.400000\n",
      "B           427.496250\n",
      "LSTAT        30.580000\n",
      "MEDV         36.962500\n",
      "dtype: float64\n"
     ]
    }
   ],
   "source": [
    "min_threshold = Q1 - 1.5 * IQR\n",
    "max_threshold = Q3 + 1.5 * IQR\n",
    "\n",
    "print(min_threshold)\n",
    "print(max_threshold)\n"
   ]
  },
  {
   "cell_type": "code",
   "execution_count": 7,
   "metadata": {},
   "outputs": [
    {
     "name": "stdout",
     "output_type": "stream",
     "text": [
      "CRIM       64\n",
      "ZN         68\n",
      "INDUS       0\n",
      "NOX         0\n",
      "RM         30\n",
      "AGE         0\n",
      "DIS         5\n",
      "RAD         0\n",
      "TAX         0\n",
      "PTRATIO    15\n",
      "B          77\n",
      "LSTAT      12\n",
      "MEDV       40\n",
      "dtype: int64\n"
     ]
    }
   ],
   "source": [
    "\n",
    "outliers = (housing < (Q1 - 1.5 * IQR)) | (housing > (Q3 + 1.5 * IQR))\n",
    "\n",
    "print(outliers.sum())\n"
   ]
  },
  {
   "cell_type": "code",
   "execution_count": 8,
   "metadata": {},
   "outputs": [
    {
     "name": "stdout",
     "output_type": "stream",
     "text": [
      "CRIM       64\n",
      "ZN         68\n",
      "INDUS       0\n",
      "NOX         0\n",
      "RM         30\n",
      "AGE         0\n",
      "DIS         5\n",
      "RAD         0\n",
      "TAX         0\n",
      "PTRATIO    15\n",
      "B          77\n",
      "LSTAT      12\n",
      "MEDV       40\n",
      "dtype: int64\n",
      "(506, 13)\n",
      "      CRIM    ZN  INDUS    NOX     RM   AGE     DIS  RAD    TAX  PTRATIO  \\\n",
      "0  0.00632  18.0   2.31  0.538  6.575  65.2  4.0900  1.0  296.0     15.3   \n",
      "1  0.02731   0.0   7.07  0.469  6.421  78.9  4.9671  2.0  242.0     17.8   \n",
      "2  0.02729   0.0   7.07  0.469  7.185  61.1  4.9671  2.0  242.0     17.8   \n",
      "3  0.03237   0.0   2.18  0.458  6.998  45.8  6.0622  3.0  222.0     18.7   \n",
      "4  0.06905   0.0   2.18  0.458  7.147  54.2  6.0622  3.0  222.0     18.7   \n",
      "\n",
      "        B      LSTAT  MEDV  \n",
      "0  396.90   4.980000  24.0  \n",
      "1  396.90   9.140000  21.6  \n",
      "2  392.83   4.030000  34.7  \n",
      "3  394.63   2.940000  33.4  \n",
      "4  396.90  12.715432  36.2  \n"
     ]
    }
   ],
   "source": [
    "\n",
    "\n",
    "outliers = (housing < (Q1 - 1.5 * IQR)) | (housing > (Q3 + 1.5 * IQR))\n",
    "\n",
    "print(outliers.sum())\n",
    "\n",
    "# replace outliers with the median of the column\n",
    "housing = housing.mask(outliers, housing.median(), axis=1)\n",
    "\n",
    "\n",
    "# size of the dataset after removing outliers\n",
    "print(housing.shape)\n",
    "\n",
    "print(housing.head())"
   ]
  },
  {
   "cell_type": "code",
   "execution_count": 9,
   "metadata": {},
   "outputs": [
    {
     "name": "stdout",
     "output_type": "stream",
     "text": [
      "       CRIM        ZN     INDUS       NOX        RM       AGE       DIS  \\\n",
      "0  0.000000  3.214286  0.339076  1.574074  3.014941  3.208033  1.828920   \n",
      "1  0.011945  0.000000  1.211510  0.864198  2.741017  3.913491  2.370788   \n",
      "2  0.011934  0.000000  1.211510  0.864198  4.099964  2.996910  2.370788   \n",
      "3  0.014825  0.000000  0.315249  0.751029  3.767343  2.209063  3.047335   \n",
      "4  0.035700  0.000000  0.315249  0.751029  4.032373  2.641607  3.047335   \n",
      "\n",
      "        RAD       TAX   PTRATIO         B     LSTAT      MEDV  \n",
      "0  0.000000  1.040076  1.011905  5.000000  0.575425  2.977346  \n",
      "1  0.217391  0.524809  2.500000  5.000000  1.311969  2.588997  \n",
      "2  0.217391  0.524809  2.500000  4.608579  0.407224  4.708738  \n",
      "3  0.434783  0.333969  3.035714  4.781689  0.214235  4.498382  \n",
      "4  0.434783  0.333969  3.035714  5.000000  1.945013  4.951456  \n"
     ]
    }
   ],
   "source": [
    "from sklearn.preprocessing import MinMaxScaler\n",
    "\n",
    "# Create a scaler object\n",
    "scaler = MinMaxScaler(feature_range=(0, 5))\n",
    "\n",
    "# Fit and transform the data\n",
    "housing_scaled = scaler.fit_transform(housing)\n",
    "\n",
    "# Convert back to a dataframe\n",
    "housing_scaled = pd.DataFrame(housing_scaled, columns=housing.columns)\n",
    "\n",
    "print(housing_scaled.head())\n"
   ]
  },
  {
   "cell_type": "code",
   "execution_count": 10,
   "metadata": {},
   "outputs": [
    {
     "name": "stdout",
     "output_type": "stream",
     "text": [
      "(404, 12)\n",
      "(102, 12)\n",
      "Mean Squared Error: 0.3272427412739307\n",
      "Intercept: 3.5515238865982486\n",
      "Slope: [ 0.10091531 -0.00532415 -0.06545641 -0.07495721  0.31423903 -0.07678951\n",
      " -0.09120832 -0.03883125 -0.14340837 -0.09224907 -0.0235436  -0.26407127]\n"
     ]
    }
   ],
   "source": [
    "'''3. Statistical Model Application: Apply linear regression to predict the median value of owner-\n",
    "occupied homes using the preprocessed dataset. Split the data into 80% training set and 20% test\n",
    "set. Calculate the mean squared error (MSE) on the test set to evaluate model performance.\n",
    "Determine and display the y-intercept and slope of the best-fitted line.\n",
    ".'''\n",
    "\n",
    "from sklearn.model_selection import train_test_split\n",
    "from sklearn.linear_model import LinearRegression\n",
    "from sklearn.metrics import mean_squared_error\n",
    "\n",
    "\n",
    "\n",
    "X = housing_scaled.drop('MEDV', axis=1)\n",
    "y = housing_scaled['MEDV']\n",
    "\n",
    "\n",
    "\n",
    "X_train, X_test, y_train, y_test = train_test_split(X, y, test_size=0.2, random_state=0)\n",
    "\n",
    "print(X_train.shape)\n",
    "print(X_test.shape)\n",
    "model = LinearRegression()\n",
    "model.fit(X_train, y_train)\n",
    "\n",
    "y_pred = model.predict(X_test)\n",
    "mse = mean_squared_error(y_test, y_pred)\n",
    "print('Mean Squared Error:', mse)\n",
    "\n",
    "print('Intercept:', model.intercept_)\n",
    "print('Slope:', model.coef_)\n",
    "\n",
    "\n",
    "\n",
    "\n"
   ]
  },
  {
   "cell_type": "code",
   "execution_count": 11,
   "metadata": {},
   "outputs": [
    {
     "name": "stdout",
     "output_type": "stream",
     "text": [
      "Actual       102\n",
      "Predicted    102\n",
      "dtype: int64\n"
     ]
    }
   ],
   "source": [
    "# print the actual and predicted values\n",
    "df = pd.DataFrame({'Actual': y_test, 'Predicted': y_pred})\n",
    "print(df.count())"
   ]
  },
  {
   "cell_type": "code",
   "execution_count": 13,
   "metadata": {},
   "outputs": [
    {
     "data": {
      "image/png": "[encoded data removed]",
      "text/plain": [
       "<Figure size 800x500 with 1 Axes>"
      ]
     },
     "metadata": {},
     "output_type": "display_data"
    }
   ],
   "source": [
    "\n",
    "import matplotlib.pyplot as plt\n",
    "\n",
    "plt.figure(figsize=(8, 5))\n",
    "\n",
    "plt.scatter(y_test, y_pred, s=50, color='black')\n",
    "\n",
    "plt.xlabel('Actual Prices')\n",
    "plt.ylabel('Predicted Prices')\n",
    "plt.title('Actual Prices vs Predicted Prices')\n",
    "\n",
    "plt.plot([0,5],[0,5] ,color='red', label='Regression line', linewidth=3, linestyle='--')\n",
    "\n",
    "plt.show()"
   ]
  },
  {
   "cell_type": "code",
   "execution_count": null,
   "metadata": {},
   "outputs": [],
   "source": []
  }
 ],
 "metadata": {
  "kernelspec": {
   "display_name": "Python 3",
   "language": "python",
   "name": "python3"
  },
  "language_info": {
   "codemirror_mode": {
    "name": "ipython",
    "version": 3
   },
   "file_extension": ".py",
   "mimetype": "text/x-python",
   "name": "python",
   "nbconvert_exporter": "python",
   "pygments_lexer": "ipython3",
   "version": "3.10.12"
  }
 },
 "nbformat": 4,
 "nbformat_minor": 2
}
