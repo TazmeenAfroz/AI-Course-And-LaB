{
 "cells": [
  {
   "cell_type": "code",
   "execution_count": 4,
   "metadata": {},
   "outputs": [
    {
     "name": "stdout",
     "output_type": "stream",
     "text": [
      "1.Room with smoke\n",
      "2.Room with no smoke\n",
      "3.Enter the room temperature value\n",
      "4.Exit\n"
     ]
    },
    {
     "name": "stdout",
     "output_type": "stream",
     "text": [
      "Turn on alarm and actpivate the sprinler\n",
      "1.Room with smoke\n",
      "2.Room with no smoke\n",
      "3.Enter the room temperature value\n",
      "4.Exit\n",
      "Turn off alarm and deactivate the sprinkler\n",
      "1.Room with smoke\n",
      "2.Room with no smoke\n",
      "3.Enter the room temperature value\n",
      "4.Exit\n",
      "Turn on alarm and call the fire department\n",
      "1.Room with smoke\n",
      "2.Room with no smoke\n",
      "3.Enter the room temperature value\n",
      "4.Exit\n"
     ]
    }
   ],
   "source": [
    "#60 is a threshold value for temperature\n",
    "percept = ['yes_smoke','no_smoke',60]\n",
    "state = ['room_with_smoke',  'room_without_smoke','room_with_high_temperature','room_with_low_temperature']\n",
    "rules= ['Turn on alarm and activate the sprinler','Turn off alarm and deactivate the sprinkler', 'Turn on alarm and call the fire department','Turn off alarm']\n",
    "\n",
    "def getState(percept_value):\n",
    "    for i in range(0,2):\n",
    "        if percept_value == percept[i]:\n",
    "            return state[i]\n",
    "    if percept_value > percept[2]:\n",
    "        return state[2]\n",
    "    elif percept_value < percept[2]:\n",
    "        return state[3]\n",
    "\n",
    "def getRules(state_value):\n",
    "    index = -1\n",
    "    for i in state:\n",
    "        index = index+1\n",
    "        if i == state_value:\n",
    "            return rules[index]\n",
    "\n",
    "def simpleReflexAgent(percep):\n",
    "    return getRules(getState(percep))\n",
    "\n",
    "\n",
    "choice = None\n",
    "while choice != 4:\n",
    "    print(\"1.Room with smoke\")\n",
    "    print(\"2.Room with no smoke\")\n",
    "    print(\"3.Enter the room temperature value\")\n",
    "    print(\"4.Exit\")\n",
    "    choice = int(input(\"Enter your choice: \"))\n",
    "    if(choice == 1):\n",
    "      rule = simpleReflexAgent(\"yes_smoke\")\n",
    "      print(rule)\n",
    "    elif(choice == 2):\n",
    "      rule = simpleReflexAgent(\"no_smoke\")\n",
    "      print(rule)\n",
    "    elif(choice == 3):\n",
    "      temperature = int(input(\"Enter the room temperature: \"))\n",
    "      rule = simpleReflexAgent(temperature)\n",
    "      print(rule)\n",
    "    elif(choice == 4):\n",
    "        break\n",
    "    else:\n",
    "        print(\"Invalid choice\")\n",
    "        continue\n",
    "\n",
    "\n",
    "\n",
    "\n",
    "    \n",
    "\n"
   ]
  },
  {
   "cell_type": "code",
   "execution_count": 11,
   "metadata": {},
   "outputs": [
    {
     "name": "stdout",
     "output_type": "stream",
     "text": [
      "Activate the watering system\n",
      "Keep the watering system off\n",
      "Deactivate the watering system\n",
      "Activate the watering system\n",
      "Deactivate the watering system\n"
     ]
    }
   ],
   "source": [
    "\n",
    "\n",
    "percept = [30,60,90]\n",
    "state = ['dry_soil',  'moist_soil','wet_soil']\n",
    "rules= ['Activate the watering system','Keep the watering system off','Deactivate the watering system']\n",
    "\n",
    "def getState(percept_value):\n",
    "  \n",
    "        if percept_value <= percept[0]:\n",
    "            return state[0]\n",
    "        if percept_value > percept[0] and percept_value <= percept[1]:\n",
    "            return state[1]\n",
    "        if percept_value > percept[1]:\n",
    "            return state[2]\n",
    "        \n",
    "def getRules(state_value):\n",
    "    index = -1\n",
    "    for i in state:\n",
    "        index = index+1\n",
    "        if i == state_value:\n",
    "            return rules[index]\n",
    "        \n",
    "def simpleReflexAgent(percep):\n",
    "    return getRules(getState(percep))\n",
    "\n",
    "count = 0\n",
    "while count < 5:\n",
    "    value = int(input(\"Enter the moisture value: \"))\n",
    "    rule = simpleReflexAgent(value)\n",
    "    print(rule)\n",
    "    count = count + 1\n"
   ]
  },
  {
   "cell_type": "code",
   "execution_count": null,
   "metadata": {},
   "outputs": [],
   "source": []
  }
 ],
 "metadata": {
  "kernelspec": {
   "display_name": "Python 3",
   "language": "python",
   "name": "python3"
  },
  "language_info": {
   "codemirror_mode": {
    "name": "ipython",
    "version": 3
   },
   "file_extension": ".py",
   "mimetype": "text/x-python",
   "name": "python",
   "nbconvert_exporter": "python",
   "pygments_lexer": "ipython3",
   "version": "3.10.12"
  }
 },
 "nbformat": 4,
 "nbformat_minor": 2
}
